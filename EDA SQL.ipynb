{
  "nbformat": 4,
  "nbformat_minor": 0,
  "metadata": {
    "kernelspec": {
      "display_name": "Python",
      "language": "python",
      "name": "conda-env-python-py"
    },
    "language_info": {
      "codemirror_mode": {
        "name": "ipython",
        "version": 3
      },
      "file_extension": ".py",
      "mimetype": "text/x-python",
      "name": "python",
      "nbconvert_exporter": "python",
      "pygments_lexer": "ipython3",
      "version": "3.6.13"
    },
    "colab": {
      "name": "jupyter-labs-eda-sql-coursera (2).ipynb",
      "provenance": [],
      "include_colab_link": true
    }
  },
  "cells": [
    {
      "cell_type": "markdown",
      "metadata": {
        "id": "view-in-github",
        "colab_type": "text"
      },
      "source": [
        "<a href=\"https://colab.research.google.com/github/xefri/Applied-Data-Science-Capstone/blob/main/EDA%20SQL.ipynb\" target=\"_parent\"><img src=\"https://colab.research.google.com/assets/colab-badge.svg\" alt=\"Open In Colab\"/></a>"
      ]
    },
    {
      "cell_type": "markdown",
      "metadata": {
        "id": "5aLBs7NcmxhW"
      },
      "source": [
        "<center>\n",
        "    <img src=\"https://gitlab.com/ibm/skills-network/courses/placeholder101/-/raw/master/labs/module%201/images/IDSNlogo.png\"  width=\"300\" alt=\"cognitiveclass.ai logo\"  />\n",
        "</center>\n",
        "\n",
        "<h1 align=center><font size = 5>Assignment: SQL Notebook for Peer Assignment</font></h1>\n",
        "\n",
        "Estimated time needed: **60** minutes.\n",
        "\n",
        "## Introduction\n",
        "\n",
        "Using this Python notebook you will:\n",
        "\n",
        "1.  Understand the Spacex DataSet\n",
        "2.  Load the dataset  into the corresponding table in a Db2 database\n",
        "3.  Execute SQL queries to answer assignment questions\n"
      ]
    },
    {
      "cell_type": "markdown",
      "metadata": {
        "id": "o9t5g_Ywmxha"
      },
      "source": [
        "## Overview of the DataSet\n",
        "\n",
        "SpaceX has gained worldwide attention for a series of historic milestones.\n",
        "\n",
        "It is the only private company ever to return a spacecraft from low-earth orbit, which it first accomplished in December 2010.\n",
        "SpaceX advertises Falcon 9 rocket launches on its website with a cost of 62 million dollars wheras other providers cost upward of 165 million dollars each, much of the savings is because Space X can reuse the first stage.\n",
        "\n",
        "Therefore if we can determine if the first stage will land, we can determine the cost of a launch.\n",
        "\n",
        "This information can be used if an alternate company wants to bid against SpaceX for a rocket launch.\n",
        "\n",
        "This dataset includes a record for each payload carried during a SpaceX mission into outer space.\n"
      ]
    },
    {
      "cell_type": "markdown",
      "metadata": {
        "id": "sHTKOIDPmxhb"
      },
      "source": [
        "### Download the datasets\n",
        "\n",
        "This assignment requires you to load the spacex dataset.\n",
        "\n",
        "In many cases the dataset to be analyzed is available as a .CSV (comma separated values) file, perhaps on the internet. Click on the link below to download and save the dataset (.CSV file):\n",
        "\n",
        "<a href=\"https://cf-courses-data.s3.us.cloud-object-storage.appdomain.cloud/IBM-DS0321EN-SkillsNetwork/labs/module_2/data/Spacex.csv?utm_medium=Exinfluencer&utm_source=Exinfluencer&utm_content=000026UJ&utm_term=10006555&utm_id=NA-SkillsNetwork-Channel-SkillsNetworkCoursesIBMDS0321ENSkillsNetwork26802033-2021-01-01\" target=\"_blank\">Spacex DataSet</a>\n"
      ]
    },
    {
      "cell_type": "markdown",
      "metadata": {
        "id": "A_oX8e1Mmxhb"
      },
      "source": [
        "### Store the dataset in database table\n",
        "\n",
        "**it is highly recommended to manually load the table using the database console LOAD tool in DB2**.\n",
        "\n",
        "<img src = \"https://cf-courses-data.s3.us.cloud-object-storage.appdomain.cloud/IBM-DS0321EN-SkillsNetwork/labs/module_2/images/spacexload.png\">\n",
        "\n",
        "Now open the Db2 console, open the LOAD tool, Select / Drag the .CSV file for the  dataset, Next create a New Table, and then follow the steps on-screen instructions to load the data. Name the new table as follows:\n",
        "\n",
        "**SPACEXDATASET**\n",
        "\n",
        "**Follow these steps while using old DB2 UI which is having Open Console Screen**\n",
        "\n",
        "**Note:While loading Spacex dataset, ensure that detect datatypes is disabled. Later click on the pencil icon(edit option).**\n",
        "\n",
        "1.  Change the Date Format by manually typing DD-MM-YYYY and timestamp format as DD-MM-YYYY HH\\:MM:SS\n",
        "\n",
        "2.  Change the PAYLOAD_MASS\\_\\_KG\\_  datatype  to INTEGER.\n",
        "\n",
        "<img src = \"https://cf-courses-data.s3.us.cloud-object-storage.appdomain.cloud/IBM-DS0321EN-SkillsNetwork/labs/module_2/images/spacexload2.png\">\n"
      ]
    },
    {
      "cell_type": "markdown",
      "metadata": {
        "id": "p1ogBQLCmxhc"
      },
      "source": [
        "**Changes to be considered when having DB2 instance with the new UI having Go to UI screen**\n",
        "\n",
        "*   Refer to this insruction in this <a href=\"https://cf-courses-data.s3.us.cloud-object-storage.appdomain.cloud/IBMDeveloperSkillsNetwork-DB0201EN-SkillsNetwork/labs/Labs_Coursera_V5/labs/Lab%20-%20Sign%20up%20for%20IBM%20Cloud%20-%20Create%20Db2%20service%20instance%20-%20Get%20started%20with%20the%20Db2%20console/instructional-labs.md.html?utm_medium=Exinfluencer&utm_source=Exinfluencer&utm_content=000026UJ&utm_term=10006555&utm_id=NA-SkillsNetwork-Channel-SkillsNetworkCoursesIBMDS0321ENSkillsNetwork26802033-2021-01-01\">link</a> for viewing  the new  Go to UI screen.\n",
        "\n",
        "*   Later click on **Data link(below SQL)**  in the Go to UI screen  and click on **Load Data** tab.\n",
        "\n",
        "*   Later browse for the downloaded spacex file.\n",
        "\n",
        "<img src=\"https://cf-courses-data.s3.us.cloud-object-storage.appdomain.cloud/IBM-DS0321EN-SkillsNetwork/labs/module_2/images/browsefile.png\" width=\"800\"/>\n",
        "\n",
        "*   Once done select the schema andload the file.\n",
        "\n",
        " <img src=\"https://cf-courses-data.s3.us.cloud-object-storage.appdomain.cloud/IBM-DS0321EN-SkillsNetwork/labs/module_2/images/spacexload3.png\" width=\"800\"/>\n"
      ]
    },
    {
      "cell_type": "code",
      "metadata": {
        "id": "ecCJ3WJAmxhc",
        "outputId": "0216b05d-fb04-44ba-9bb6-c837321b1ca9"
      },
      "source": [
        "!pip install sqlalchemy==1.3.9\n",
        "!pip install ibm_db_sa\n",
        "!pip install ipython-sql"
      ],
      "execution_count": null,
      "outputs": [
        {
          "name": "stdout",
          "output_type": "stream",
          "text": [
            "Requirement already satisfied: sqlalchemy==1.3.9 in /home/jupyterlab/conda/envs/python/lib/python3.6/site-packages (1.3.9)\n",
            "Requirement already satisfied: ibm_db_sa in /home/jupyterlab/conda/envs/python/lib/python3.6/site-packages (0.3.3)\n",
            "Requirement already satisfied: sqlalchemy>=0.7.3 in /home/jupyterlab/conda/envs/python/lib/python3.6/site-packages (from ibm_db_sa) (1.3.9)\n",
            "Requirement already satisfied: ipython-sql in /home/jupyterlab/conda/envs/python/lib/python3.6/site-packages (0.3.9)\n",
            "Requirement already satisfied: ipython>=1.0 in /home/jupyterlab/conda/envs/python/lib/python3.6/site-packages (from ipython-sql) (7.16.1)\n",
            "Requirement already satisfied: sqlparse in /home/jupyterlab/conda/envs/python/lib/python3.6/site-packages (from ipython-sql) (0.4.1)\n",
            "Requirement already satisfied: prettytable in /home/jupyterlab/conda/envs/python/lib/python3.6/site-packages (from ipython-sql) (2.1.0)\n",
            "Requirement already satisfied: sqlalchemy>=0.6.7 in /home/jupyterlab/conda/envs/python/lib/python3.6/site-packages (from ipython-sql) (1.3.9)\n",
            "Requirement already satisfied: ipython-genutils>=0.1.0 in /home/jupyterlab/conda/envs/python/lib/python3.6/site-packages (from ipython-sql) (0.2.0)\n",
            "Requirement already satisfied: six in /home/jupyterlab/conda/envs/python/lib/python3.6/site-packages (from ipython-sql) (1.15.0)\n",
            "Requirement already satisfied: decorator in /home/jupyterlab/conda/envs/python/lib/python3.6/site-packages (from ipython>=1.0->ipython-sql) (4.4.2)\n",
            "Requirement already satisfied: backcall in /home/jupyterlab/conda/envs/python/lib/python3.6/site-packages (from ipython>=1.0->ipython-sql) (0.2.0)\n",
            "Requirement already satisfied: prompt-toolkit!=3.0.0,!=3.0.1,<3.1.0,>=2.0.0 in /home/jupyterlab/conda/envs/python/lib/python3.6/site-packages (from ipython>=1.0->ipython-sql) (3.0.19)\n",
            "Requirement already satisfied: pexpect; sys_platform != \"win32\" in /home/jupyterlab/conda/envs/python/lib/python3.6/site-packages (from ipython>=1.0->ipython-sql) (4.8.0)\n",
            "Requirement already satisfied: pygments in /home/jupyterlab/conda/envs/python/lib/python3.6/site-packages (from ipython>=1.0->ipython-sql) (2.9.0)\n",
            "Requirement already satisfied: traitlets>=4.2 in /home/jupyterlab/conda/envs/python/lib/python3.6/site-packages (from ipython>=1.0->ipython-sql) (4.3.3)\n",
            "Requirement already satisfied: jedi>=0.10 in /home/jupyterlab/conda/envs/python/lib/python3.6/site-packages (from ipython>=1.0->ipython-sql) (0.17.2)\n",
            "Requirement already satisfied: pickleshare in /home/jupyterlab/conda/envs/python/lib/python3.6/site-packages (from ipython>=1.0->ipython-sql) (0.7.5)\n",
            "Requirement already satisfied: setuptools>=18.5 in /home/jupyterlab/conda/envs/python/lib/python3.6/site-packages (from ipython>=1.0->ipython-sql) (49.6.0.post20210108)\n",
            "Requirement already satisfied: wcwidth in /home/jupyterlab/conda/envs/python/lib/python3.6/site-packages (from prettytable->ipython-sql) (0.2.5)\n",
            "Requirement already satisfied: importlib-metadata; python_version < \"3.8\" in /home/jupyterlab/conda/envs/python/lib/python3.6/site-packages (from prettytable->ipython-sql) (4.6.1)\n",
            "Requirement already satisfied: ptyprocess>=0.5 in /home/jupyterlab/conda/envs/python/lib/python3.6/site-packages (from pexpect; sys_platform != \"win32\"->ipython>=1.0->ipython-sql) (0.7.0)\n",
            "Requirement already satisfied: parso<0.8.0,>=0.7.0 in /home/jupyterlab/conda/envs/python/lib/python3.6/site-packages (from jedi>=0.10->ipython>=1.0->ipython-sql) (0.7.1)\n",
            "Requirement already satisfied: zipp>=0.5 in /home/jupyterlab/conda/envs/python/lib/python3.6/site-packages (from importlib-metadata; python_version < \"3.8\"->prettytable->ipython-sql) (3.5.0)\n",
            "Requirement already satisfied: typing-extensions>=3.6.4; python_version < \"3.8\" in /home/jupyterlab/conda/envs/python/lib/python3.6/site-packages (from importlib-metadata; python_version < \"3.8\"->prettytable->ipython-sql) (3.10.0.0)\n"
          ]
        }
      ]
    },
    {
      "cell_type": "markdown",
      "metadata": {
        "id": "jQ1vzw08mxhe"
      },
      "source": [
        "### Connect to the database\n",
        "\n",
        "Let us first load the SQL extension and establish a connection with the database\n"
      ]
    },
    {
      "cell_type": "code",
      "metadata": {
        "id": "WmJ3oFj-mxhe"
      },
      "source": [
        "%load_ext sql"
      ],
      "execution_count": null,
      "outputs": []
    },
    {
      "cell_type": "markdown",
      "metadata": {
        "id": "eN3w1vNHmxhf"
      },
      "source": [
        "**DB2 magic in case of old UI service credentials.**\n",
        "\n",
        "In the next cell enter your db2 connection string. Recall you created Service Credentials for your Db2 instance before. From the **uri** field of your Db2 service credentials copy everything after db2:// (except the double quote at the end) and paste it in the cell below after ibm_db_sa://\n",
        "\n",
        "<img src =\"https://cf-courses-data.s3.us.cloud-object-storage.appdomain.cloud/IBMDeveloperSkillsNetwork-DB0201EN-SkillsNetwork/labs/FinalModule_edX/images/URI.jpg\">\n",
        "\n",
        "in the following format\n",
        "\n",
        "**%sql ibm_db_sa://my-username:my-password\\@my-hostname:my-port/my-db-name**\n",
        "\n",
        "**DB2 magic in case of new UI service credentials.**\n",
        "\n",
        "<img src =\"https://cf-courses-data.s3.us.cloud-object-storage.appdomain.cloud/IBM-DS0321EN-SkillsNetwork/labs/module_2/images/servicecredentials.png\" width=600>  \n",
        "\n",
        "*   Use the following format.\n",
        "\n",
        "*   Add security=SSL at the end\n",
        "\n",
        "**%sql ibm_db_sa://my-username:my-password\\@my-hostname:my-port/my-db-name?security=SSL**\n"
      ]
    },
    {
      "cell_type": "code",
      "metadata": {
        "id": "jTkPlsiKmxhf"
      },
      "source": [
        "import ibm_db"
      ],
      "execution_count": null,
      "outputs": []
    },
    {
      "cell_type": "code",
      "metadata": {
        "id": "51Dqukrqmxhf"
      },
      "source": [
        ""
      ],
      "execution_count": null,
      "outputs": []
    },
    {
      "cell_type": "code",
      "metadata": {
        "id": "ZG6V3Yh0mxhg",
        "outputId": "8a5ad986-a26c-47ad-b716-2bf323f48031"
      },
      "source": [
        "%sql ibm_db_sa://tly04122:FzDc84evu75VncwF@64264db-9824-4b7c-82df-40d1b13897c2.bs2io90l08kqb1od8lcg.databases.appdomain.cloud:32536/bludb?security=SSL"
      ],
      "execution_count": null,
      "outputs": [
        {
          "data": {
            "text/plain": [
              "'Connected: tly04122@bludb'"
            ]
          },
          "execution_count": 4,
          "metadata": {},
          "output_type": "execute_result"
        }
      ]
    },
    {
      "cell_type": "markdown",
      "metadata": {
        "id": "Ql2LQwY-mxhg"
      },
      "source": [
        "## Tasks\n",
        "\n",
        "Now write and execute SQL queries to solve the assignment tasks.\n",
        "\n",
        "### Task 1\n",
        "\n",
        "##### Display the names of the unique launch sites  in the space mission\n"
      ]
    },
    {
      "cell_type": "code",
      "metadata": {
        "id": "ZHvhWzQ4mxhg",
        "outputId": "7197e53c-f069-4acf-98d4-0e3e5c24cd18"
      },
      "source": [
        "%%sql \n",
        "SELECT LAUNCH_SITE FROM SPACEXTBL GROUP BY LAUNCH_SITE                "
      ],
      "execution_count": null,
      "outputs": [
        {
          "name": "stdout",
          "output_type": "stream",
          "text": [
            " * ibm_db_sa://tly04122:***@64264db-9824-4b7c-82df-40d1b13897c2.bs2io90l08kqb1od8lcg.databases.appdomain.cloud:32536/bludb\n",
            "Done.\n"
          ]
        },
        {
          "data": {
            "text/html": [
              "<table>\n",
              "    <thead>\n",
              "        <tr>\n",
              "            <th>launch_site</th>\n",
              "        </tr>\n",
              "    </thead>\n",
              "    <tbody>\n",
              "        <tr>\n",
              "            <td>CCAFS LC-40</td>\n",
              "        </tr>\n",
              "        <tr>\n",
              "            <td>CCAFS SLC-40</td>\n",
              "        </tr>\n",
              "        <tr>\n",
              "            <td>KSC LC-39A</td>\n",
              "        </tr>\n",
              "        <tr>\n",
              "            <td>VAFB SLC-4E</td>\n",
              "        </tr>\n",
              "    </tbody>\n",
              "</table>"
            ],
            "text/plain": [
              "[('CCAFS LC-40',), ('CCAFS SLC-40',), ('KSC LC-39A',), ('VAFB SLC-4E',)]"
            ]
          },
          "execution_count": 39,
          "metadata": {},
          "output_type": "execute_result"
        }
      ]
    },
    {
      "cell_type": "markdown",
      "metadata": {
        "id": "Y4DzGu-xmxhg"
      },
      "source": [
        "### Task 2\n",
        "\n",
        "##### Display 5 records where launch sites begin with the string 'CCA'\n"
      ]
    },
    {
      "cell_type": "code",
      "metadata": {
        "id": "PP6lOM6gmxhh",
        "outputId": "1bac2d74-8726-48f5-beae-a151306577cf"
      },
      "source": [
        "%%sql \n",
        "SELECT * FROM SPACEXTBL WHERE LAUNCH_SITE LIKE 'CCA%'\n",
        "LIMIT 5"
      ],
      "execution_count": null,
      "outputs": [
        {
          "name": "stdout",
          "output_type": "stream",
          "text": [
            " * ibm_db_sa://tly04122:***@64264db-9824-4b7c-82df-40d1b13897c2.bs2io90l08kqb1od8lcg.databases.appdomain.cloud:32536/bludb\n",
            "Done.\n"
          ]
        },
        {
          "data": {
            "text/html": [
              "<table>\n",
              "    <thead>\n",
              "        <tr>\n",
              "            <th>DATE</th>\n",
              "            <th>time__utc_</th>\n",
              "            <th>booster_version</th>\n",
              "            <th>launch_site</th>\n",
              "            <th>payload</th>\n",
              "            <th>payload_mass__kg_</th>\n",
              "            <th>orbit</th>\n",
              "            <th>customer</th>\n",
              "            <th>mission_outcome</th>\n",
              "            <th>landing__outcome</th>\n",
              "        </tr>\n",
              "    </thead>\n",
              "    <tbody>\n",
              "        <tr>\n",
              "            <td>2010-06-04</td>\n",
              "            <td>18:45:00</td>\n",
              "            <td>F9 v1.0  B0003</td>\n",
              "            <td>CCAFS LC-40</td>\n",
              "            <td>Dragon Spacecraft Qualification Unit</td>\n",
              "            <td>0</td>\n",
              "            <td>LEO</td>\n",
              "            <td>SpaceX</td>\n",
              "            <td>Success</td>\n",
              "            <td>Failure (parachute)</td>\n",
              "        </tr>\n",
              "        <tr>\n",
              "            <td>2010-12-08</td>\n",
              "            <td>15:43:00</td>\n",
              "            <td>F9 v1.0  B0004</td>\n",
              "            <td>CCAFS LC-40</td>\n",
              "            <td>Dragon demo flight C1, two CubeSats, barrel of Brouere cheese</td>\n",
              "            <td>0</td>\n",
              "            <td>LEO (ISS)</td>\n",
              "            <td>NASA (COTS) NRO</td>\n",
              "            <td>Success</td>\n",
              "            <td>Failure (parachute)</td>\n",
              "        </tr>\n",
              "        <tr>\n",
              "            <td>2012-05-22</td>\n",
              "            <td>07:44:00</td>\n",
              "            <td>F9 v1.0  B0005</td>\n",
              "            <td>CCAFS LC-40</td>\n",
              "            <td>Dragon demo flight C2</td>\n",
              "            <td>525</td>\n",
              "            <td>LEO (ISS)</td>\n",
              "            <td>NASA (COTS)</td>\n",
              "            <td>Success</td>\n",
              "            <td>No attempt</td>\n",
              "        </tr>\n",
              "        <tr>\n",
              "            <td>2012-10-08</td>\n",
              "            <td>00:35:00</td>\n",
              "            <td>F9 v1.0  B0006</td>\n",
              "            <td>CCAFS LC-40</td>\n",
              "            <td>SpaceX CRS-1</td>\n",
              "            <td>500</td>\n",
              "            <td>LEO (ISS)</td>\n",
              "            <td>NASA (CRS)</td>\n",
              "            <td>Success</td>\n",
              "            <td>No attempt</td>\n",
              "        </tr>\n",
              "        <tr>\n",
              "            <td>2013-03-01</td>\n",
              "            <td>15:10:00</td>\n",
              "            <td>F9 v1.0  B0007</td>\n",
              "            <td>CCAFS LC-40</td>\n",
              "            <td>SpaceX CRS-2</td>\n",
              "            <td>677</td>\n",
              "            <td>LEO (ISS)</td>\n",
              "            <td>NASA (CRS)</td>\n",
              "            <td>Success</td>\n",
              "            <td>No attempt</td>\n",
              "        </tr>\n",
              "    </tbody>\n",
              "</table>"
            ],
            "text/plain": [
              "[(datetime.date(2010, 6, 4), datetime.time(18, 45), 'F9 v1.0  B0003', 'CCAFS LC-40', 'Dragon Spacecraft Qualification Unit', 0, 'LEO', 'SpaceX', 'Success', 'Failure (parachute)'),\n",
              " (datetime.date(2010, 12, 8), datetime.time(15, 43), 'F9 v1.0  B0004', 'CCAFS LC-40', 'Dragon demo flight C1, two CubeSats, barrel of Brouere cheese', 0, 'LEO (ISS)', 'NASA (COTS) NRO', 'Success', 'Failure (parachute)'),\n",
              " (datetime.date(2012, 5, 22), datetime.time(7, 44), 'F9 v1.0  B0005', 'CCAFS LC-40', 'Dragon demo flight C2', 525, 'LEO (ISS)', 'NASA (COTS)', 'Success', 'No attempt'),\n",
              " (datetime.date(2012, 10, 8), datetime.time(0, 35), 'F9 v1.0  B0006', 'CCAFS LC-40', 'SpaceX CRS-1', 500, 'LEO (ISS)', 'NASA (CRS)', 'Success', 'No attempt'),\n",
              " (datetime.date(2013, 3, 1), datetime.time(15, 10), 'F9 v1.0  B0007', 'CCAFS LC-40', 'SpaceX CRS-2', 677, 'LEO (ISS)', 'NASA (CRS)', 'Success', 'No attempt')]"
            ]
          },
          "execution_count": 43,
          "metadata": {},
          "output_type": "execute_result"
        }
      ]
    },
    {
      "cell_type": "markdown",
      "metadata": {
        "id": "qAdgck1mmxhh"
      },
      "source": [
        "### Task 3\n",
        "\n",
        "##### Display the total payload mass carried by boosters launched by NASA (CRS)\n"
      ]
    },
    {
      "cell_type": "code",
      "metadata": {
        "id": "KZjcgd3kmxhh",
        "outputId": "8f79051c-d3de-498d-906c-ed9c3800608e"
      },
      "source": [
        "%%sql \n",
        "SELECT SUM(payload_mass__kg_) FROM SPACEXTBL WHERE customer LIKE 'NASA (CRS)'"
      ],
      "execution_count": null,
      "outputs": [
        {
          "name": "stdout",
          "output_type": "stream",
          "text": [
            " * ibm_db_sa://tly04122:***@64264db-9824-4b7c-82df-40d1b13897c2.bs2io90l08kqb1od8lcg.databases.appdomain.cloud:32536/bludb\n",
            "Done.\n"
          ]
        },
        {
          "data": {
            "text/html": [
              "<table>\n",
              "    <thead>\n",
              "        <tr>\n",
              "            <th>1</th>\n",
              "        </tr>\n",
              "    </thead>\n",
              "    <tbody>\n",
              "        <tr>\n",
              "            <td>45596</td>\n",
              "        </tr>\n",
              "    </tbody>\n",
              "</table>"
            ],
            "text/plain": [
              "[(45596,)]"
            ]
          },
          "execution_count": 49,
          "metadata": {},
          "output_type": "execute_result"
        }
      ]
    },
    {
      "cell_type": "markdown",
      "metadata": {
        "id": "kI5GbrDimxhh"
      },
      "source": [
        "### Task 4\n",
        "\n",
        "##### Display average payload mass carried by booster version F9 v1.1\n"
      ]
    },
    {
      "cell_type": "code",
      "metadata": {
        "id": "sRJp6r4zmxhi",
        "outputId": "262e8c30-e35c-45f3-e3ad-fc16ec8a11a7"
      },
      "source": [
        "%%sql \n",
        "SELECT AVG(payload_mass__kg_) FROM SPACEXTBL WHERE booster_version LIKE 'F9 v1.1%'"
      ],
      "execution_count": null,
      "outputs": [
        {
          "name": "stdout",
          "output_type": "stream",
          "text": [
            " * ibm_db_sa://tly04122:***@64264db-9824-4b7c-82df-40d1b13897c2.bs2io90l08kqb1od8lcg.databases.appdomain.cloud:32536/bludb\n",
            "Done.\n"
          ]
        },
        {
          "data": {
            "text/html": [
              "<table>\n",
              "    <thead>\n",
              "        <tr>\n",
              "            <th>1</th>\n",
              "        </tr>\n",
              "    </thead>\n",
              "    <tbody>\n",
              "        <tr>\n",
              "            <td>2534</td>\n",
              "        </tr>\n",
              "    </tbody>\n",
              "</table>"
            ],
            "text/plain": [
              "[(2534,)]"
            ]
          },
          "execution_count": 50,
          "metadata": {},
          "output_type": "execute_result"
        }
      ]
    },
    {
      "cell_type": "markdown",
      "metadata": {
        "id": "bZYSTK4Pmxhi"
      },
      "source": [
        "### Task 5\n",
        "\n",
        "##### List the date when the first successful landing outcome in ground pad was acheived.\n",
        "\n",
        "*Hint:Use min function*\n"
      ]
    },
    {
      "cell_type": "code",
      "metadata": {
        "id": "KnIuzdyZmxhi",
        "outputId": "31790823-7cf9-4b2c-fb73-80c6a30d9f08"
      },
      "source": [
        "%%sql \n",
        "SELECT DATE FROM SPACEXTBL WHERE landing__outcome LIKE 'Success%'\n",
        "LIMIT 1"
      ],
      "execution_count": null,
      "outputs": [
        {
          "name": "stdout",
          "output_type": "stream",
          "text": [
            " * ibm_db_sa://tly04122:***@64264db-9824-4b7c-82df-40d1b13897c2.bs2io90l08kqb1od8lcg.databases.appdomain.cloud:32536/bludb\n",
            "Done.\n"
          ]
        },
        {
          "data": {
            "text/html": [
              "<table>\n",
              "    <thead>\n",
              "        <tr>\n",
              "            <th>DATE</th>\n",
              "        </tr>\n",
              "    </thead>\n",
              "    <tbody>\n",
              "        <tr>\n",
              "            <td>2015-12-22</td>\n",
              "        </tr>\n",
              "    </tbody>\n",
              "</table>"
            ],
            "text/plain": [
              "[(datetime.date(2015, 12, 22),)]"
            ]
          },
          "execution_count": 58,
          "metadata": {},
          "output_type": "execute_result"
        }
      ]
    },
    {
      "cell_type": "markdown",
      "metadata": {
        "id": "tg13x0anmxhi"
      },
      "source": [
        "### Task 6\n",
        "\n",
        "##### List the names of the boosters which have success in drone ship and have payload mass greater than 4000 but less than 6000\n"
      ]
    },
    {
      "cell_type": "code",
      "metadata": {
        "id": "N7vFG8s6mxhi",
        "outputId": "b077c559-8a6a-4258-ef19-0a6eed291bf1"
      },
      "source": [
        "%%sql\n",
        "SELECT booster_version FROM SPACEXTBL \n",
        "WHERE landing__outcome LIKE 'Success (drone ship)' AND payload_mass__kg_ BETWEEN 4000 AND 6000  "
      ],
      "execution_count": null,
      "outputs": [
        {
          "name": "stdout",
          "output_type": "stream",
          "text": [
            " * ibm_db_sa://tly04122:***@64264db-9824-4b7c-82df-40d1b13897c2.bs2io90l08kqb1od8lcg.databases.appdomain.cloud:32536/bludb\n",
            "Done.\n"
          ]
        },
        {
          "data": {
            "text/html": [
              "<table>\n",
              "    <thead>\n",
              "        <tr>\n",
              "            <th>booster_version</th>\n",
              "        </tr>\n",
              "    </thead>\n",
              "    <tbody>\n",
              "        <tr>\n",
              "            <td>F9 FT B1022</td>\n",
              "        </tr>\n",
              "        <tr>\n",
              "            <td>F9 FT B1026</td>\n",
              "        </tr>\n",
              "        <tr>\n",
              "            <td>F9 FT  B1021.2</td>\n",
              "        </tr>\n",
              "        <tr>\n",
              "            <td>F9 FT  B1031.2</td>\n",
              "        </tr>\n",
              "    </tbody>\n",
              "</table>"
            ],
            "text/plain": [
              "[('F9 FT B1022',), ('F9 FT B1026',), ('F9 FT  B1021.2',), ('F9 FT  B1031.2',)]"
            ]
          },
          "execution_count": 67,
          "metadata": {},
          "output_type": "execute_result"
        }
      ]
    },
    {
      "cell_type": "markdown",
      "metadata": {
        "id": "6cOMQBJcmxhj"
      },
      "source": [
        "### Task 7\n",
        "\n",
        "##### List the total number of successful and failure mission outcomes\n"
      ]
    },
    {
      "cell_type": "code",
      "metadata": {
        "id": "D_DhyPfNmxhj",
        "outputId": "b33147eb-25f4-4e37-88d9-3bebb32a40ab"
      },
      "source": [
        "%%sql\n",
        "SELECT COUNT(mission_outcome) as failure FROM SPACEXTBL \n",
        "WHERE mission_outcome LIKE 'Failure%'"
      ],
      "execution_count": null,
      "outputs": [
        {
          "name": "stdout",
          "output_type": "stream",
          "text": [
            " * ibm_db_sa://tly04122:***@64264db-9824-4b7c-82df-40d1b13897c2.bs2io90l08kqb1od8lcg.databases.appdomain.cloud:32536/bludb\n",
            "Done.\n"
          ]
        },
        {
          "data": {
            "text/html": [
              "<table>\n",
              "    <thead>\n",
              "        <tr>\n",
              "            <th>failure</th>\n",
              "        </tr>\n",
              "    </thead>\n",
              "    <tbody>\n",
              "        <tr>\n",
              "            <td>1</td>\n",
              "        </tr>\n",
              "    </tbody>\n",
              "</table>"
            ],
            "text/plain": [
              "[(1,)]"
            ]
          },
          "execution_count": 80,
          "metadata": {},
          "output_type": "execute_result"
        }
      ]
    },
    {
      "cell_type": "code",
      "metadata": {
        "tags": [],
        "id": "6Ttt1KXImxhj",
        "outputId": "97978839-8226-415f-f51f-1b290d84dc6c"
      },
      "source": [
        "%%sql\n",
        "SELECT COUNT(mission_outcome) as successful FROM SPACEXTBL \n",
        "WHERE mission_outcome LIKE 'Success%'\n",
        "\n"
      ],
      "execution_count": null,
      "outputs": [
        {
          "name": "stdout",
          "output_type": "stream",
          "text": [
            " * ibm_db_sa://tly04122:***@64264db-9824-4b7c-82df-40d1b13897c2.bs2io90l08kqb1od8lcg.databases.appdomain.cloud:32536/bludb\n",
            "Done.\n"
          ]
        },
        {
          "data": {
            "text/html": [
              "<table>\n",
              "    <thead>\n",
              "        <tr>\n",
              "            <th>successful</th>\n",
              "        </tr>\n",
              "    </thead>\n",
              "    <tbody>\n",
              "        <tr>\n",
              "            <td>100</td>\n",
              "        </tr>\n",
              "    </tbody>\n",
              "</table>"
            ],
            "text/plain": [
              "[(100,)]"
            ]
          },
          "execution_count": 79,
          "metadata": {},
          "output_type": "execute_result"
        }
      ]
    },
    {
      "cell_type": "markdown",
      "metadata": {
        "id": "_LlsD4pAmxhj"
      },
      "source": [
        "### Task 8\n",
        "##### List the names of the booster_versions which have carried the maximum payload mass. Use a subquery"
      ]
    },
    {
      "cell_type": "code",
      "metadata": {
        "id": "UD856ficmxhj",
        "outputId": "28060f0e-22c1-44e9-980a-4a5b20fe4449"
      },
      "source": [
        "%%sql \n",
        "select BOOSTER_VERSION as boosterversion \n",
        "from SPACEXTBL where PAYLOAD_MASS__KG_ = (select max(PAYLOAD_MASS__KG_) from SPACEXTBL)"
      ],
      "execution_count": null,
      "outputs": [
        {
          "name": "stdout",
          "output_type": "stream",
          "text": [
            " * ibm_db_sa://tly04122:***@64264db-9824-4b7c-82df-40d1b13897c2.bs2io90l08kqb1od8lcg.databases.appdomain.cloud:32536/bludb\n",
            "Done.\n"
          ]
        },
        {
          "data": {
            "text/html": [
              "<table>\n",
              "    <thead>\n",
              "        <tr>\n",
              "            <th>boosterversion</th>\n",
              "        </tr>\n",
              "    </thead>\n",
              "    <tbody>\n",
              "        <tr>\n",
              "            <td>F9 B5 B1048.4</td>\n",
              "        </tr>\n",
              "        <tr>\n",
              "            <td>F9 B5 B1049.4</td>\n",
              "        </tr>\n",
              "        <tr>\n",
              "            <td>F9 B5 B1051.3</td>\n",
              "        </tr>\n",
              "        <tr>\n",
              "            <td>F9 B5 B1056.4</td>\n",
              "        </tr>\n",
              "        <tr>\n",
              "            <td>F9 B5 B1048.5</td>\n",
              "        </tr>\n",
              "        <tr>\n",
              "            <td>F9 B5 B1051.4</td>\n",
              "        </tr>\n",
              "        <tr>\n",
              "            <td>F9 B5 B1049.5</td>\n",
              "        </tr>\n",
              "        <tr>\n",
              "            <td>F9 B5 B1060.2</td>\n",
              "        </tr>\n",
              "        <tr>\n",
              "            <td>F9 B5 B1058.3</td>\n",
              "        </tr>\n",
              "        <tr>\n",
              "            <td>F9 B5 B1051.6</td>\n",
              "        </tr>\n",
              "        <tr>\n",
              "            <td>F9 B5 B1060.3</td>\n",
              "        </tr>\n",
              "        <tr>\n",
              "            <td>F9 B5 B1049.7</td>\n",
              "        </tr>\n",
              "    </tbody>\n",
              "</table>"
            ],
            "text/plain": [
              "[('F9 B5 B1048.4',),\n",
              " ('F9 B5 B1049.4',),\n",
              " ('F9 B5 B1051.3',),\n",
              " ('F9 B5 B1056.4',),\n",
              " ('F9 B5 B1048.5',),\n",
              " ('F9 B5 B1051.4',),\n",
              " ('F9 B5 B1049.5',),\n",
              " ('F9 B5 B1060.2',),\n",
              " ('F9 B5 B1058.3',),\n",
              " ('F9 B5 B1051.6',),\n",
              " ('F9 B5 B1060.3',),\n",
              " ('F9 B5 B1049.7',)]"
            ]
          },
          "execution_count": 15,
          "metadata": {},
          "output_type": "execute_result"
        }
      ]
    },
    {
      "cell_type": "markdown",
      "metadata": {
        "tags": [],
        "id": "QGmXX9Lkmxhk"
      },
      "source": [
        "### Task 9\n",
        "\n",
        "##### List the failed landing_outcomes in drone ship, their booster versions, and launch site names for in year 2015\n"
      ]
    },
    {
      "cell_type": "code",
      "metadata": {
        "id": "-wCLQDZymxhk",
        "outputId": "e2925b5b-b30b-463f-e2a4-a39eeeba3204"
      },
      "source": [
        "%%sql \n",
        "SELECT MONTH(DATE), MISSION_OUTCOME, BOOSTER_VERSION, LAUNCH_SITE \n",
        "FROM SPACEXTBL where EXTRACT(YEAR FROM DATE)='2015'"
      ],
      "execution_count": null,
      "outputs": [
        {
          "name": "stdout",
          "output_type": "stream",
          "text": [
            " * ibm_db_sa://tly04122:***@64264db-9824-4b7c-82df-40d1b13897c2.bs2io90l08kqb1od8lcg.databases.appdomain.cloud:32536/bludb\n",
            "Done.\n"
          ]
        },
        {
          "data": {
            "text/html": [
              "<table>\n",
              "    <thead>\n",
              "        <tr>\n",
              "            <th>1</th>\n",
              "            <th>mission_outcome</th>\n",
              "            <th>booster_version</th>\n",
              "            <th>launch_site</th>\n",
              "        </tr>\n",
              "    </thead>\n",
              "    <tbody>\n",
              "        <tr>\n",
              "            <td>1</td>\n",
              "            <td>Success</td>\n",
              "            <td>F9 v1.1 B1012</td>\n",
              "            <td>CCAFS LC-40</td>\n",
              "        </tr>\n",
              "        <tr>\n",
              "            <td>2</td>\n",
              "            <td>Success</td>\n",
              "            <td>F9 v1.1 B1013</td>\n",
              "            <td>CCAFS LC-40</td>\n",
              "        </tr>\n",
              "        <tr>\n",
              "            <td>3</td>\n",
              "            <td>Success</td>\n",
              "            <td>F9 v1.1 B1014</td>\n",
              "            <td>CCAFS LC-40</td>\n",
              "        </tr>\n",
              "        <tr>\n",
              "            <td>4</td>\n",
              "            <td>Success</td>\n",
              "            <td>F9 v1.1 B1015</td>\n",
              "            <td>CCAFS LC-40</td>\n",
              "        </tr>\n",
              "        <tr>\n",
              "            <td>4</td>\n",
              "            <td>Success</td>\n",
              "            <td>F9 v1.1 B1016</td>\n",
              "            <td>CCAFS LC-40</td>\n",
              "        </tr>\n",
              "        <tr>\n",
              "            <td>6</td>\n",
              "            <td>Failure (in flight)</td>\n",
              "            <td>F9 v1.1 B1018</td>\n",
              "            <td>CCAFS LC-40</td>\n",
              "        </tr>\n",
              "        <tr>\n",
              "            <td>12</td>\n",
              "            <td>Success</td>\n",
              "            <td>F9 FT B1019</td>\n",
              "            <td>CCAFS LC-40</td>\n",
              "        </tr>\n",
              "    </tbody>\n",
              "</table>"
            ],
            "text/plain": [
              "[(1, 'Success', 'F9 v1.1 B1012', 'CCAFS LC-40'),\n",
              " (2, 'Success', 'F9 v1.1 B1013', 'CCAFS LC-40'),\n",
              " (3, 'Success', 'F9 v1.1 B1014', 'CCAFS LC-40'),\n",
              " (4, 'Success', 'F9 v1.1 B1015', 'CCAFS LC-40'),\n",
              " (4, 'Success', 'F9 v1.1 B1016', 'CCAFS LC-40'),\n",
              " (6, 'Failure (in flight)', 'F9 v1.1 B1018', 'CCAFS LC-40'),\n",
              " (12, 'Success', 'F9 FT B1019', 'CCAFS LC-40')]"
            ]
          },
          "execution_count": 16,
          "metadata": {},
          "output_type": "execute_result"
        }
      ]
    },
    {
      "cell_type": "markdown",
      "metadata": {
        "id": "1gbM83TGmxhk"
      },
      "source": [
        "### Task 10\n",
        "\n",
        "##### Rank the count of landing outcomes (such as Failure (drone ship) or Success (ground pad)) between the date 2010-06-04 and 2017-03-20, in descending order\n"
      ]
    },
    {
      "cell_type": "code",
      "metadata": {
        "id": "oYBK15fkmxhk",
        "outputId": "f41d4e2c-9204-4ad1-fa78-0dcd9fa184f3"
      },
      "source": [
        "%%sql \n",
        "SELECT Landing__Outcome AS \"Landing Outcome\", COUNT(Landing__Outcome) AS \"Success Count\" \n",
        "FROM SPACEXTBL WHERE DATE > '2010-06-04' AND DATE < '2017-03-20' GROUP BY LANDING__OUTCOME"
      ],
      "execution_count": null,
      "outputs": [
        {
          "name": "stdout",
          "output_type": "stream",
          "text": [
            " * ibm_db_sa://tly04122:***@64264db-9824-4b7c-82df-40d1b13897c2.bs2io90l08kqb1od8lcg.databases.appdomain.cloud:32536/bludb\n",
            "Done.\n"
          ]
        },
        {
          "data": {
            "text/html": [
              "<table>\n",
              "    <thead>\n",
              "        <tr>\n",
              "            <th>Landing Outcome</th>\n",
              "            <th>Success Count</th>\n",
              "        </tr>\n",
              "    </thead>\n",
              "    <tbody>\n",
              "        <tr>\n",
              "            <td>Controlled (ocean)</td>\n",
              "            <td>3</td>\n",
              "        </tr>\n",
              "        <tr>\n",
              "            <td>Failure (drone ship)</td>\n",
              "            <td>5</td>\n",
              "        </tr>\n",
              "        <tr>\n",
              "            <td>Failure (parachute)</td>\n",
              "            <td>1</td>\n",
              "        </tr>\n",
              "        <tr>\n",
              "            <td>No attempt</td>\n",
              "            <td>10</td>\n",
              "        </tr>\n",
              "        <tr>\n",
              "            <td>Precluded (drone ship)</td>\n",
              "            <td>1</td>\n",
              "        </tr>\n",
              "        <tr>\n",
              "            <td>Success (drone ship)</td>\n",
              "            <td>5</td>\n",
              "        </tr>\n",
              "        <tr>\n",
              "            <td>Success (ground pad)</td>\n",
              "            <td>3</td>\n",
              "        </tr>\n",
              "        <tr>\n",
              "            <td>Uncontrolled (ocean)</td>\n",
              "            <td>2</td>\n",
              "        </tr>\n",
              "    </tbody>\n",
              "</table>"
            ],
            "text/plain": [
              "[('Controlled (ocean)', 3),\n",
              " ('Failure (drone ship)', 5),\n",
              " ('Failure (parachute)', 1),\n",
              " ('No attempt', 10),\n",
              " ('Precluded (drone ship)', 1),\n",
              " ('Success (drone ship)', 5),\n",
              " ('Success (ground pad)', 3),\n",
              " ('Uncontrolled (ocean)', 2)]"
            ]
          },
          "execution_count": 33,
          "metadata": {},
          "output_type": "execute_result"
        }
      ]
    },
    {
      "cell_type": "markdown",
      "metadata": {
        "id": "fNOm8Rqmmxhk"
      },
      "source": [
        "### Reference Links\n",
        "\n",
        "*   <a href =\"https://cf-courses-data.s3.us.cloud-object-storage.appdomain.cloud/IBMDeveloperSkillsNetwork-DB0201EN-SkillsNetwork/labs/Labs_Coursera_V5/labs/Lab%20-%20String%20Patterns%20-%20Sorting%20-%20Grouping/instructional-labs.md.html?utm_medium=Exinfluencer&utm_source=Exinfluencer&utm_content=000026UJ&utm_term=10006555&utm_id=NA-SkillsNetwork-Channel-SkillsNetworkCoursesIBMDS0321ENSkillsNetwork26802033-2021-01-01&origin=www.coursera.org\">Hands-on Lab : String Patterns, Sorting and Grouping</a>\n",
        "\n",
        "*   <a  href=\"https://cf-courses-data.s3.us.cloud-object-storage.appdomain.cloud/IBMDeveloperSkillsNetwork-DB0201EN-SkillsNetwork/labs/Labs_Coursera_V5/labs/Lab%20-%20Built-in%20functions%20/Hands-on_Lab__Built-in_Functions.md.html?utm_medium=Exinfluencer&utm_source=Exinfluencer&utm_content=000026UJ&utm_term=10006555&utm_id=NA-SkillsNetwork-Channel-SkillsNetworkCoursesIBMDS0321ENSkillsNetwork26802033-2021-01-01&origin=www.coursera.org\">Hands-on Lab: Built-in functions</a>\n",
        "\n",
        "*   <a  href=\"https://cf-courses-data.s3.us.cloud-object-storage.appdomain.cloud/IBMDeveloperSkillsNetwork-DB0201EN-SkillsNetwork/labs/Labs_Coursera_V5/labs/Lab%20-%20Sub-queries%20and%20Nested%20SELECTs%20/instructional-labs.md.html?utm_medium=Exinfluencer&utm_source=Exinfluencer&utm_content=000026UJ&utm_term=10006555&utm_id=NA-SkillsNetwork-Channel-SkillsNetworkCoursesIBMDS0321ENSkillsNetwork26802033-2021-01-01&origin=www.coursera.org\">Hands-on Lab : Sub-queries and Nested SELECT Statements</a>\n",
        "\n",
        "*   <a href=\"https://cf-courses-data.s3.us.cloud-object-storage.appdomain.cloud/IBMDeveloperSkillsNetwork-DB0201EN-SkillsNetwork/labs/Module%205/DB0201EN-Week3-1-3-SQLmagic.ipynb?utm_medium=Exinfluencer&utm_source=Exinfluencer&utm_content=000026UJ&utm_term=10006555&utm_id=NA-SkillsNetwork-Channel-SkillsNetworkCoursesIBMDS0321ENSkillsNetwork26802033-2021-01-01\">Hands-on Tutorial: Accessing Databases with SQL magic</a>\n",
        "\n",
        "*   <a href= \"https://cf-courses-data.s3.us.cloud-object-storage.appdomain.cloud/IBMDeveloperSkillsNetwork-DB0201EN-SkillsNetwork/labs/Module%205/DB0201EN-Week3-1-4-Analyzing.ipynb?utm_medium=Exinfluencer&utm_source=Exinfluencer&utm_content=000026UJ&utm_term=10006555&utm_id=NA-SkillsNetwork-Channel-SkillsNetworkCoursesIBMDS0321ENSkillsNetwork26802033-2021-01-01\">Hands-on Lab: Analyzing a real World Data Set</a>\n"
      ]
    },
    {
      "cell_type": "markdown",
      "metadata": {
        "id": "fBbY8YsImxhk"
      },
      "source": [
        "## Author(s)\n",
        "\n",
        "<h4> Lakshmi Holla </h4>\n"
      ]
    },
    {
      "cell_type": "code",
      "metadata": {
        "id": "1dgy0ZGnmxhl",
        "outputId": "a0bc604e-3f78-4431-b370-6cb04a502d58"
      },
      "source": [
        "%%sql\n",
        "\n",
        "\n",
        "SELECT sum(PAYLOAD_MASS__KG_)  from SPACEXTBL "
      ],
      "execution_count": null,
      "outputs": [
        {
          "name": "stdout",
          "output_type": "stream",
          "text": [
            " * ibm_db_sa://tly04122:***@64264db-9824-4b7c-82df-40d1b13897c2.bs2io90l08kqb1od8lcg.databases.appdomain.cloud:32536/bludb\n",
            "Done.\n"
          ]
        },
        {
          "data": {
            "text/html": [
              "<table>\n",
              "    <thead>\n",
              "        <tr>\n",
              "            <th>1</th>\n",
              "        </tr>\n",
              "    </thead>\n",
              "    <tbody>\n",
              "        <tr>\n",
              "            <td>619967</td>\n",
              "        </tr>\n",
              "    </tbody>\n",
              "</table>"
            ],
            "text/plain": [
              "[(619967,)]"
            ]
          },
          "execution_count": 88,
          "metadata": {},
          "output_type": "execute_result"
        }
      ]
    },
    {
      "cell_type": "markdown",
      "metadata": {
        "id": "i4wPUhyrmxhl"
      },
      "source": [
        "## Other Contributors\n",
        "\n",
        "<h4> Rav Ahuja </h4>\n"
      ]
    },
    {
      "cell_type": "markdown",
      "metadata": {
        "id": "PJCW2gxmmxhl"
      },
      "source": [
        "## Change log\n",
        "\n",
        "| Date       | Version | Changed by    | Change Description        |\n",
        "| ---------- | ------- | ------------- | ------------------------- |\n",
        "| 2021-08-24 | 0.3     | Lakshmi Holla | Added library update      |\n",
        "| 2021-07-09 | 0.2     | Lakshmi Holla | Changes made in magic sql |\n",
        "| 2021-05-20 | 0.1     | Lakshmi Holla | Created Initial Version   |\n"
      ]
    },
    {
      "cell_type": "markdown",
      "metadata": {
        "id": "BM_s8fJ0mxhl"
      },
      "source": [
        "## <h3 align=\"center\"> © IBM Corporation 2021. All rights reserved. <h3/>\n"
      ]
    }
  ]
}